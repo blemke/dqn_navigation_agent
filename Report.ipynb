{
 "cells": [
  {
   "cell_type": "markdown",
   "metadata": {},
   "source": [
    "Navigation Agent trained in Unity Banana environment "
   ]
  },
  {
   "cell_type": "markdown",
   "metadata": {},
   "source": [
    "Learning Algorithm"
   ]
  },
  {
   "cell_type": "markdown",
   "metadata": {},
   "source": [
    "The agent implements the Deep Q reinforcement learning model described in Mnih, Volodymyr, et al. \"Human-level control through deep reinforcement learning.\" Nature 518.7540 (2015): 529.\n",
    "\n",
    "This is done as traditional Q learning, except instead of using a lookup table to choose the best action for a particular state, a deep nueral network is trained to select the best action as a function of environment state."
   ]
  },
  {
   "cell_type": "markdown",
   "metadata": {},
   "source": [
    "Chosen Hyperparameters"
   ]
  },
  {
   "cell_type": "markdown",
   "metadata": {},
   "source": [
    "        n_episodes (int 10000): maximum number of training episodes\n",
    "        max_t (int 1000): maximum number of timesteps per episode\n",
    "        eps_start (float 1.0): starting value of epsilon, for epsilon-greedy action selection\n",
    "        eps_end (float 0.01): minimum value of epsilon\n",
    "        eps_decay (float 0.995): multiplicative factor (per episode) for decreasing epsilon"
   ]
  },
  {
   "cell_type": "markdown",
   "metadata": {},
   "source": [
    "Neural Network Architecture"
   ]
  },
  {
   "cell_type": "markdown",
   "metadata": {},
   "source": [
    "The deep neural network has fully connected layers and relu ctivation functions:\n",
    "    layer 1: 37 nodes for the State size of 37\n",
    "    layer 2: 64 nodes\n",
    "    layer 3: 64 nodes\n",
    "    output layer 4: 4 nodes for the action size of 4"
   ]
  },
  {
   "cell_type": "markdown",
   "metadata": {},
   "source": [
    "Graph of Score of the last 100 episodes during training"
   ]
  },
  {
   "cell_type": "markdown",
   "metadata": {},
   "source": [
    "<img src=\"episode_rewards.png\">"
   ]
  },
  {
   "cell_type": "markdown",
   "metadata": {},
   "source": [
    "As can be seen, the model trained to a mean score of +13 over the previous 100 episodes after 471 episodes."
   ]
  },
  {
   "cell_type": "markdown",
   "metadata": {},
   "source": [
    "Ideas for future improvement"
   ]
  },
  {
   "cell_type": "markdown",
   "metadata": {},
   "source": [
    "-Variations of parameters can be examined through grid search to find optimal settings"
   ]
  },
  {
   "cell_type": "markdown",
   "metadata": {},
   "source": [
    "-Implement Double DQN as specified in Van Hasselt, Hado, Arthur Guez, and David Silver. \"Deep Reinforcement Learning with Double Q-Learning.\" AAAI. Vol. 2. 2016."
   ]
  },
  {
   "cell_type": "code",
   "execution_count": null,
   "metadata": {},
   "outputs": [],
   "source": []
  }
 ],
 "metadata": {
  "kernelspec": {
   "display_name": "Python 3",
   "language": "python",
   "name": "python3"
  },
  "language_info": {
   "codemirror_mode": {
    "name": "ipython",
    "version": 3
   },
   "file_extension": ".py",
   "mimetype": "text/x-python",
   "name": "python",
   "nbconvert_exporter": "python",
   "pygments_lexer": "ipython3",
   "version": "3.6.5"
  }
 },
 "nbformat": 4,
 "nbformat_minor": 2
}
